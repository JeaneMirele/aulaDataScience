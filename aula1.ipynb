{
 "cells": [
  {
   "cell_type": "code",
   "execution_count": null,
   "id": "07c9c24d-d796-4442-bf1b-7ac8ae44f0d0",
   "metadata": {},
   "outputs": [],
   "source": []
  },
  {
   "cell_type": "markdown",
   "id": "23afbea8-124b-4503-ab24-0c43fd727818",
   "metadata": {},
   "source": [
    "# Teste"
   ]
  },
  {
   "cell_type": "code",
   "execution_count": 3,
   "id": "0a57b114-0911-4f6b-9683-4d9696abafa7",
   "metadata": {},
   "outputs": [
    {
     "name": "stdout",
     "output_type": "stream",
     "text": [
      "ok\n"
     ]
    }
   ],
   "source": [
    "print(\"ok\");"
   ]
  },
  {
   "cell_type": "markdown",
   "id": "7d8ce80b-4ddc-4133-aa05-c4e282005aa2",
   "metadata": {},
   "source": [
    "## Data table"
   ]
  },
  {
   "cell_type": "code",
   "execution_count": 6,
   "id": "cadbd611-f0a3-4bfc-95ae-8b524f8e8ef4",
   "metadata": {},
   "outputs": [],
   "source": [
    "import pandas as pd"
   ]
  },
  {
   "cell_type": "markdown",
   "id": "3a79a03d-8ced-4fdc-bc57-204115f69c88",
   "metadata": {},
   "source": [
    "# Mostrar tabela"
   ]
  },
  {
   "cell_type": "code",
   "execution_count": 56,
   "id": "eb32fae5-ba2b-4bc8-81c4-8d27b9506169",
   "metadata": {},
   "outputs": [
    {
     "data": {
      "text/html": [
       "<div>\n",
       "<style scoped>\n",
       "    .dataframe tbody tr th:only-of-type {\n",
       "        vertical-align: middle;\n",
       "    }\n",
       "\n",
       "    .dataframe tbody tr th {\n",
       "        vertical-align: top;\n",
       "    }\n",
       "\n",
       "    .dataframe thead th {\n",
       "        text-align: right;\n",
       "    }\n",
       "</style>\n",
       "<table border=\"1\" class=\"dataframe\">\n",
       "  <thead>\n",
       "    <tr style=\"text-align: right;\">\n",
       "      <th></th>\n",
       "      <th>1</th>\n",
       "      <th>4.9</th>\n",
       "      <th>?</th>\n",
       "      <th>?.1</th>\n",
       "      <th>0.2</th>\n",
       "      <th>Setosa</th>\n",
       "    </tr>\n",
       "  </thead>\n",
       "  <tbody>\n",
       "    <tr>\n",
       "      <th>0</th>\n",
       "      <td>2</td>\n",
       "      <td>4.7</td>\n",
       "      <td>3.2</td>\n",
       "      <td>?</td>\n",
       "      <td>0.2</td>\n",
       "      <td>Setosa</td>\n",
       "    </tr>\n",
       "    <tr>\n",
       "      <th>1</th>\n",
       "      <td>3</td>\n",
       "      <td>4.6</td>\n",
       "      <td>?</td>\n",
       "      <td>1.5</td>\n",
       "      <td>0.2</td>\n",
       "      <td>Setosa</td>\n",
       "    </tr>\n",
       "    <tr>\n",
       "      <th>2</th>\n",
       "      <td>4</td>\n",
       "      <td>?</td>\n",
       "      <td>3.6</td>\n",
       "      <td>1.4</td>\n",
       "      <td>0.2</td>\n",
       "      <td>Setosa</td>\n",
       "    </tr>\n",
       "    <tr>\n",
       "      <th>3</th>\n",
       "      <td>5</td>\n",
       "      <td>5.4</td>\n",
       "      <td>3.9</td>\n",
       "      <td>1.7</td>\n",
       "      <td>0.4</td>\n",
       "      <td>Setosa</td>\n",
       "    </tr>\n",
       "    <tr>\n",
       "      <th>4</th>\n",
       "      <td>6</td>\n",
       "      <td>4.6</td>\n",
       "      <td>3.4</td>\n",
       "      <td>1.4</td>\n",
       "      <td>0.3</td>\n",
       "      <td>Setosa</td>\n",
       "    </tr>\n",
       "  </tbody>\n",
       "</table>\n",
       "</div>"
      ],
      "text/plain": [
       "   1  4.9    ?  ?.1  0.2  Setosa\n",
       "0  2  4.7  3.2    ?  0.2  Setosa\n",
       "1  3  4.6    ?  1.5  0.2  Setosa\n",
       "2  4    ?  3.6  1.4  0.2  Setosa\n",
       "3  5  5.4  3.9  1.7  0.4  Setosa\n",
       "4  6  4.6  3.4  1.4  0.3  Setosa"
      ]
     },
     "execution_count": 56,
     "metadata": {},
     "output_type": "execute_result"
    }
   ],
   "source": [
    "df = pd.read_csv(\"iris_com_na.csv\")\n",
    "\n",
    "\n",
    "df.to_csv('iris_com_na.csv', # Nome do arquivo de saída\n",
    " sep=',', # Separador de colunas\n",
    " index=False, # Não salvar o índice como coluna\n",
    " encoding='utf-8', # Codificação do arquivo\n",
    " quotechar='\"', # Delimitador de strings\n",
    " na_rep='NA', # Como representar valores NaN\n",
    "\n",
    ")\n",
    "df.head()"
   ]
  },
  {
   "cell_type": "code",
   "execution_count": 50,
   "id": "eb23f782-5b77-43c2-bcf6-abcf2657387c",
   "metadata": {},
   "outputs": [],
   "source": [
    "\n"
   ]
  },
  {
   "cell_type": "markdown",
   "id": "8f47dc4e-d399-4fc8-9c50-89d95d77c4fa",
   "metadata": {},
   "source": [
    "# Exibir quantidade de colunas e linhas"
   ]
  },
  {
   "cell_type": "code",
   "execution_count": 18,
   "id": "a6c0550e-4d22-4b2e-8bb4-dbf0e5b7c067",
   "metadata": {},
   "outputs": [
    {
     "name": "stdout",
     "output_type": "stream",
     "text": [
      "150 6\n"
     ]
    }
   ],
   "source": [
    "linhas, colunas = df.shape\n",
    "\n",
    "print(linhas, colunas)"
   ]
  },
  {
   "cell_type": "markdown",
   "id": "6f589503-bb39-42c9-8440-7c766337fd42",
   "metadata": {},
   "source": [
    "# Acessar última linha"
   ]
  },
  {
   "cell_type": "code",
   "execution_count": 22,
   "id": "a64ed875-51ee-45cf-bade-43033d13769a",
   "metadata": {},
   "outputs": [
    {
     "data": {
      "text/plain": [
       "id                    149\n",
       "sepal.length            ?\n",
       "sepal.width           3.0\n",
       "petal.length          5.1\n",
       "petal.width           1.8\n",
       "variety         Virginica\n",
       "Name: 149, dtype: object"
      ]
     },
     "execution_count": 22,
     "metadata": {},
     "output_type": "execute_result"
    }
   ],
   "source": [
    "df.iloc[-1]"
   ]
  },
  {
   "cell_type": "code",
   "execution_count": 31,
   "id": "8aa98332-b27d-4c3f-b0c0-0dedd8394a7d",
   "metadata": {},
   "outputs": [
    {
     "name": "stdout",
     "output_type": "stream",
     "text": [
      "    nome  idade\n",
      "a   João     30\n",
      "b  Maria     25\n",
      "c    Ana     28\n"
     ]
    }
   ],
   "source": [
    "df = pd.DataFrame({\n",
    " 'nome': ['João','Maria','Ana'],\n",
    " 'idade': [30,25,28]\n",
    "}, index=['a','b','c'])\n",
    "\n",
    "print(df)\n",
    "\n"
   ]
  },
  {
   "cell_type": "code",
   "execution_count": 35,
   "id": "5bb1b8d4-8d7a-449f-aabf-aebb54f0e4f0",
   "metadata": {},
   "outputs": [
    {
     "ename": "SyntaxError",
     "evalue": "invalid syntax (3668621352.py, line 1)",
     "output_type": "error",
     "traceback": [
      "\u001b[1;36m  Cell \u001b[1;32mIn[35], line 1\u001b[1;36m\u001b[0m\n\u001b[1;33m    df.loc[\"b\"] //acessa - Índice e colunas com nomes\u001b[0m\n\u001b[1;37m                                  ^\u001b[0m\n\u001b[1;31mSyntaxError\u001b[0m\u001b[1;31m:\u001b[0m invalid syntax\n"
     ]
    }
   ],
   "source": [
    "df.loc[\"b\"] #acessa - Índice e colunas com nomes"
   ]
  },
  {
   "cell_type": "code",
   "execution_count": null,
   "id": "b01b3806-9677-4246-aaaa-c09b550b4815",
   "metadata": {},
   "outputs": [],
   "source": [
    "df.iloc["
   ]
  }
 ],
 "metadata": {
  "kernelspec": {
   "display_name": "Python [conda env:base] *",
   "language": "python",
   "name": "conda-base-py"
  },
  "language_info": {
   "codemirror_mode": {
    "name": "ipython",
    "version": 3
   },
   "file_extension": ".py",
   "mimetype": "text/x-python",
   "name": "python",
   "nbconvert_exporter": "python",
   "pygments_lexer": "ipython3",
   "version": "3.12.7"
  }
 },
 "nbformat": 4,
 "nbformat_minor": 5
}
